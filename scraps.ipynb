{
 "cells": [
  {
   "cell_type": "code",
   "execution_count": null,
   "metadata": {},
   "outputs": [],
   "source": [
    "from textblob import TextBlob\n",
    "\n",
    "ew_frame['Group'] = 'EW'\n",
    "ewre_frame['Group'] = 'EWRE'\n",
    "ctr_frame['Group'] = 'CTR'\n",
    "writing_df = pd.concat([ew_frame,ewre_frame,ctr_frame]).reset_index()\n",
    "writing_df['sentiment'] = writing_df.writing.astype('str').apply([lambda x: TextBlob(x)])\n",
    "writing_df['polarity'] = writing_df.sentiment.apply([lambda x: x.sentiment.polarity])\n",
    "writing_df['subjectivity'] = writing_df.sentiment.apply([lambda x: x.sentiment.subjectivity])"
   ]
  },
  {
   "cell_type": "code",
   "execution_count": null,
   "metadata": {},
   "outputs": [],
   "source": [
    "# read in files from directory\n",
    "writing_dir = r\"P:\\EW_analysis\\analysis\\writing\\writing_data\"\n",
    "writing_files = [f for f in os.listdir(writing_dir) if 'Writing' in f]\n",
    "\n",
    "ids,days,writing = get_diaries(writing_dir,[f for f in writing_files if 'T1 in f'],[4,18,23])\n",
    "ew_frame= pd.DataFrame({'id':pd.Series(list(itertools.chain.from_iterable(ids))),'writing': pd.Series(list(itertools.chain.from_iterable(writing))),'days':pd.Series(list(itertools.chain.from_iterable(days)))})\n",
    "ids,days,writing = get_diaries(writing_dir,[f for f in writing_files if 'T2' in f],[4,18,23])\n",
    "ewre_frame = pd.DataFrame({'id':pd.Series(list(itertools.chain.from_iterable(ids))),'writing': pd.Series(list(itertools.chain.from_iterable(writing))),'days':pd.Series(list(itertools.chain.from_iterable(days)))})\n",
    "ids,days,writing = get_diaries(writing_dir,[f for f in writing_files if 'T3 in f'],[4,18,23])\n",
    "ctr_frame = pd.DataFrame({'id':pd.Series(list(itertools.chain.from_iterable(ids))),'writing': pd.Series(list(itertools.chain.from_iterable(writing))),'days':pd.Series(list(itertools.chain.from_iterable(days)))})\n",
    "\n",
    "# now let's check word counts for each condition.\n",
    "ew_frame['word_count'] = ew_frame.writing.astype('str').str.split().apply(len)\n",
    "ewre_frame['word_count'] = ewre_frame.writing.astype('str').str.split().apply(len)\n",
    "ctr_frame['word_count'] = ctr_frame.writing.astype('str').str.split().apply(len)\n",
    "\n",
    "# now to get the word count for each day and condition\n",
    "print(\"EW:\", ew_frame.groupby('days').word_count.mean())\n",
    "print(\"EWRE:\", ewre_frame.groupby('days').word_count.mean())\n",
    "print(\"CTR:\", ctr_frame.groupby('days').word_count.mean())\n",
    "\n",
    "stat, pval = stats.f_oneway(ew_frame.groupby('days').word_count.mean(),ewre_frame.groupby('days').word_count.mean(),ctr_frame.groupby('days').word_count.mean())\n",
    "print('Word count different between groups when ordered by day - F: {}, p: {}'.format(stat,pval))\n",
    "stat, pval = stats.f_oneway(ew_frame.word_count,ewre_frame.word_count,ctr_frame.word_count) # check if word count is significantly different between the different conditions\n",
    "print('Word count different between groups - F: {}, pval {}'.format(stat,pval))"
   ]
  }
 ],
 "metadata": {
  "interpreter": {
   "hash": "9ec994d0b4d2f6c713992b16f2c88007ac3578bc75aec34272bb3a023418f6ca"
  },
  "kernelspec": {
   "display_name": "Python 3.9.7 64-bit",
   "language": "python",
   "name": "python3"
  },
  "language_info": {
   "name": "python",
   "version": "3.9.7"
  },
  "orig_nbformat": 4
 },
 "nbformat": 4,
 "nbformat_minor": 2
}
