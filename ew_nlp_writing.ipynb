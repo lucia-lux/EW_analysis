{
 "cells": [
  {
   "cell_type": "code",
   "execution_count": 249,
   "metadata": {},
   "outputs": [],
   "source": [
    "import os\n",
    "import re\n",
    "import itertools\n",
    "import datetime\n",
    "import math\n",
    "from collections import Counter\n",
    "\n",
    "import pandas as pd\n",
    "import numpy as np\n",
    "import seaborn as sns\n",
    "import matplotlib.pyplot as plt\n",
    "import gensim\n",
    "from gensim.utils import simple_preprocess\n",
    "from gensim import corpora, models\n",
    "from gensim.parsing.preprocessing import STOPWORDS\n",
    "from nltk.stem import WordNetLemmatizer, SnowballStemmer\n",
    "from nltk.stem.porter import *\n",
    "from sklearn.decomposition import PCA\n",
    "from sklearn.manifold import TSNE\n",
    "import matplotlib.pyplot as plt\n",
    "import seaborn as sns\n",
    "from mpl_toolkits.mplot3d import Axes3D\n",
    "import nltk\n",
    "import spacy\n",
    "from spacy.lang.en.stop_words import STOP_WORDS\n",
    "from spacy.lang.en import English"
   ]
  },
  {
   "cell_type": "markdown",
   "metadata": {},
   "source": [
    "Playing with the written statements from the Expressive Writing study. \n",
    "\n",
    "sources:\n",
    "https://www.kaggle.com/dskswu/topic-modeling-bert-lda - topic modeling bert+lda"
   ]
  },
  {
   "cell_type": "markdown",
   "metadata": {},
   "source": [
    "Specify path to input directory and read in files."
   ]
  },
  {
   "cell_type": "code",
   "execution_count": 14,
   "metadata": {},
   "outputs": [],
   "source": [
    "home = 1\n",
    "if home:\n",
    "    infiledir = r\"C:\\Users\\Luzia T\\UCL\\WorkingFromHome\\Possible_online_studies\\NLP_expressive_writing\\analysis\\Processed_2\"\n",
    "    writing_dir = r\"C:\\Users\\Luzia T\\UCL\\WorkingFromHome\\Possible_online_studies\\NLP_expressive_writing\\analysis\\writing_data\\statements\"\n",
    "else:\n",
    "    infiledir = r\"P:\\EW_analysis\\analysis\\Processed_2\"\n",
    "    writing_dir = r\"P:\\EW_analysis\\analysis\\writing\\writing_data\"\n",
    "\n"
   ]
  },
  {
   "cell_type": "code",
   "execution_count": 15,
   "metadata": {},
   "outputs": [
    {
     "name": "stdout",
     "output_type": "stream",
     "text": [
      "C:\\Users\\Luzia T\\UCL\\WorkingFromHome\\Possible_online_studies\\NLP_expressive_writing\\analysis\\writing_data\\statements\\Writing_T1_Day1.csv\n",
      "C:\\Users\\Luzia T\\UCL\\WorkingFromHome\\Possible_online_studies\\NLP_expressive_writing\\analysis\\writing_data\\statements\\Writing_T1_Day2.csv\n",
      "C:\\Users\\Luzia T\\UCL\\WorkingFromHome\\Possible_online_studies\\NLP_expressive_writing\\analysis\\writing_data\\statements\\Writing_T1_Day3.csv\n",
      "C:\\Users\\Luzia T\\UCL\\WorkingFromHome\\Possible_online_studies\\NLP_expressive_writing\\analysis\\writing_data\\statements\\Writing_T1_Day4.csv\n",
      "C:\\Users\\Luzia T\\UCL\\WorkingFromHome\\Possible_online_studies\\NLP_expressive_writing\\analysis\\writing_data\\statements\\Writing_T2_Day1.csv\n",
      "C:\\Users\\Luzia T\\UCL\\WorkingFromHome\\Possible_online_studies\\NLP_expressive_writing\\analysis\\writing_data\\statements\\Writing_T2_Day2.csv\n",
      "C:\\Users\\Luzia T\\UCL\\WorkingFromHome\\Possible_online_studies\\NLP_expressive_writing\\analysis\\writing_data\\statements\\Writing_T2_Day3.csv\n",
      "C:\\Users\\Luzia T\\UCL\\WorkingFromHome\\Possible_online_studies\\NLP_expressive_writing\\analysis\\writing_data\\statements\\Writing_T2_Day4.csv\n",
      "C:\\Users\\Luzia T\\UCL\\WorkingFromHome\\Possible_online_studies\\NLP_expressive_writing\\analysis\\writing_data\\statements\\Writing_T3_Day1.csv\n",
      "C:\\Users\\Luzia T\\UCL\\WorkingFromHome\\Possible_online_studies\\NLP_expressive_writing\\analysis\\writing_data\\statements\\Writing_T3_Day2.csv\n",
      "C:\\Users\\Luzia T\\UCL\\WorkingFromHome\\Possible_online_studies\\NLP_expressive_writing\\analysis\\writing_data\\statements\\Writing_T3_Day3.csv\n",
      "C:\\Users\\Luzia T\\UCL\\WorkingFromHome\\Possible_online_studies\\NLP_expressive_writing\\analysis\\writing_data\\statements\\Writing_T3_Day4.csv\n"
     ]
    }
   ],
   "source": [
    "for dirname, _, filenames in os.walk(writing_dir):\n",
    "    for filename in filenames:\n",
    "        print(os.path.join(dirname, filename))\n",
    "\n",
    "\n",
    "ew_files = [f for f in filenames if 'T1' in f]\n",
    "ewre_files = [f for f in filenames if 'T2' in f]\n",
    "ctr_files = [f for f in filenames if 'T3' in f]\n"
   ]
  },
  {
   "cell_type": "code",
   "execution_count": 124,
   "metadata": {},
   "outputs": [],
   "source": [
    "def get_diaries(directory,filenames,group_name):\n",
    "    \"\"\" \n",
    "    read in files from each group/day of writing\n",
    "    in: path to input directory, list of filenames, condition name (EW, EWRE or CTR)\n",
    "    out: list of lists of data from all days of writing for the specified group.\n",
    "    \"\"\"\n",
    "    all_files = []\n",
    "    for i,name in enumerate(filenames):\n",
    "        diary_df = pd.read_csv(os.path.join(directory,name),skiprows = [0,2])\n",
    "        # retain only records of people who finished the survey\n",
    "        diary_df = diary_df.loc[diary_df.Progress==100,:]\n",
    "        # what day of writing were they on\n",
    "        diary_df['day'] = i+1\n",
    "        diary_df['Group'] = group_name\n",
    "        writing_col = diary_df.filter(like = 'Please use the box below').columns[0]\n",
    "        diary_df = diary_df.rename(columns = {writing_col: 'writing'})\n",
    "        id_col = diary_df.filter(like = 'participant ID').columns[0]\n",
    "        diary_df = diary_df.rename(columns = {id_col: 'id'})\n",
    "        all_files.append(diary_df)\n",
    "    return all_files\n",
    "\n",
    "def read_files(infiles):\n",
    "    \"\"\"\n",
    "    convert list of lists to dataframe.\n",
    "    in: list of lists (output from get_diaries) \n",
    "    \"\"\"\n",
    "    all_df = pd.concat([pd.DataFrame(infiles[0]), pd.DataFrame(infiles[1]),pd.DataFrame(infiles[2]),pd.DataFrame(infiles[3])])\n",
    "    return all_df"
   ]
  },
  {
   "cell_type": "code",
   "execution_count": 125,
   "metadata": {},
   "outputs": [],
   "source": [
    "all_ew = get_diaries(writing_dir, ew_files,'EW')\n",
    "ew_df = read_files(all_ew)\n",
    "all_ewre = get_diaries(writing_dir, ewre_files,'EWRE')\n",
    "ewre_df = read_files(all_ewre)\n",
    "all_ctr = get_diaries(writing_dir, ctr_files,'CTR')\n",
    "ctr_df = read_files(all_ctr)\n",
    "writing_df = pd.concat([ew_df,ewre_df,ctr_df])\n",
    "\n",
    "\n",
    "# save if needed\n",
    "save = 0\n",
    "if save:\n",
    "    writing_df.to_csv(os.path.join(writing_dir, 'writing_df.csv'))\n"
   ]
  },
  {
   "cell_type": "code",
   "execution_count": null,
   "metadata": {},
   "outputs": [],
   "source": [
    "all_dat_df = pd.read_csv(os.path.join(infiledir, 'all_dat_df.csv'))"
   ]
  },
  {
   "cell_type": "markdown",
   "metadata": {},
   "source": [
    "Let's check whether we have roughly the same number of statements in each condition. We sort of know this is true, but nice to have a quick visual confirmation."
   ]
  },
  {
   "cell_type": "code",
   "execution_count": 49,
   "metadata": {},
   "outputs": [
    {
     "data": {
      "text/plain": [
       "[Text(0, 0.5, 'Number of statements'), Text(0.5, 1.0, 'Statements per Group')]"
      ]
     },
     "execution_count": 49,
     "metadata": {},
     "output_type": "execute_result"
    },
    {
     "data": {
      "image/png": "[encoded data removed]",
      "text/plain": [
       "<Figure size 432x288 with 1 Axes>"
      ]
     },
     "metadata": {
      "needs_background": "light"
     },
     "output_type": "display_data"
    }
   ],
   "source": [
    "sns.barplot(x = writing_df.Group.unique(), y = [len(ew_df),len(ewre_df),len(ctr_df)]).set(ylabel = 'Number of statements', title = 'Statements per Group')"
   ]
  },
  {
   "cell_type": "markdown",
   "metadata": {},
   "source": [
    "We'll now have a look at the top 50 words in each group before doing any preprocessing on the text."
   ]
  },
  {
   "cell_type": "code",
   "execution_count": 155,
   "metadata": {},
   "outputs": [
    {
     "data": {
      "text/plain": [
       "Text(0.5, 1.0, 'CTR')"
      ]
     },
     "execution_count": 155,
     "metadata": {},
     "output_type": "execute_result"
    },
    {
     "data": {
      "image/png": "[encoded data removed]",
      "text/plain": [
       "<Figure size 1800x1080 with 3 Axes>"
      ]
     },
     "metadata": {
      "needs_background": "light"
     },
     "output_type": "display_data"
    }
   ],
   "source": [
    "ew_words = writing_df.loc[writing_df.Group == 'EW','writing'].str.split(expand=True).unstack().value_counts()\n",
    "ewre_words = writing_df.loc[writing_df.Group == 'EWRE','writing'].str.split(expand=True).unstack().value_counts()\n",
    "ctr_words = writing_df.loc[writing_df.Group == 'CTR', 'writing'].str.split(expand = True).unstack().value_counts()\n",
    "\n",
    "fig, axes = plt.subplots(3, 1, figsize=(25,15), sharey=True)\n",
    "fig.suptitle('50 most frequent words - all conditions')\n",
    "\n",
    "# EW\n",
    "sns.barplot(ax=axes[0], x=ew_words.index[:50], y=ew_words[:50])\n",
    "axes[0].set_title('EW')\n",
    "\n",
    "# EWRE\n",
    "sns.barplot(ax=axes[1], x=ewre_words.index[:50], y=ewre_words[:50])\n",
    "axes[1].set_title('EWRE')\n",
    "\n",
    "# CTR\n",
    "sns.barplot(ax=axes[2], x=ctr_words.index[:50], y=ctr_words[:50])\n",
    "axes[2].set_title('CTR')"
   ]
  },
  {
   "cell_type": "markdown",
   "metadata": {},
   "source": [
    "Even without having done any preprocessing, we can tell there is a difference between the active and control conditions. The word 'feel' makes the top 50 for both EW and EW+RE, but not for CTR, as does the word 'because'. 'Not' is also near the top of the list in both EW and EW+RE, whilst being last on the list of top 50 words in CTR. We will now do some preprocessing and then have another look."
   ]
  },
  {
   "cell_type": "markdown",
   "metadata": {},
   "source": [
    "Preprocessing"
   ]
  },
  {
   "cell_type": "code",
   "execution_count": 134,
   "metadata": {},
   "outputs": [],
   "source": [
    "\n",
    "from nltk.stem.porter import PorterStemmer\n",
    "import re\n",
    "import nltk\n",
    "from nltk.tokenize import word_tokenize\n",
    "import pkg_resources\n",
    "from nltk.corpus import stopwords\n",
    "from nltk.tokenize import word_tokenize\n",
    "from symspellpy import SymSpell, Verbosity\n",
    "\n",
    "sym_spell = SymSpell(max_dictionary_edit_distance=3, prefix_length=7)\n",
    "dictionary_path = pkg_resources.resource_filename(\n",
    "    \"symspellpy\", \"frequency_dictionary_en_82_765.txt\")\n",
    "if sym_spell.word_count:\n",
    "    pass\n",
    "else:\n",
    "    sym_spell.load_dictionary(dictionary_path, term_index=0, count_index=1)\n",
    "\n",
    "# normalization\n",
    "def func_norm(s):\n",
    "    \"\"\"\n",
    "    Some basic normalisation.\n",
    "    in: input string\n",
    "    out: normalised string.\n",
    "    \n",
    "    \"\"\"\n",
    "    s = s.lower() # lower case\n",
    "    # letter repetition (>2)\n",
    "    s  = re.sub(r'([a-z])\\1{2,}', r'\\1', s)\n",
    "    # non word repetition\n",
    "    s = s = re.sub(r'([\\W+])\\1{1,}', r'\\1', s)\n",
    "    # noise text\n",
    "    s = re.sub(r' ing ', ' ', s)\n",
    "    # phrase repetition\n",
    "    s = re.sub(r'(.{2,}?)\\1{1,}', r'\\1', s)\n",
    "\n",
    "    return s.strip()\n",
    "\n",
    "def func_punc(w_list):\n",
    "    \"\"\"\n",
    "    in: word list (w_list) to be processed\n",
    "    out: w_list with punctuation and number filter out\n",
    "    \"\"\"\n",
    "    return [word for word in w_list if word.isalpha()]\n",
    "\n",
    "def func_stopf(w_list):\n",
    "    \"\"\"\n",
    "    filter stop words\n",
    "    in:  word list\n",
    "    out: word list w/o stop words\n",
    "    \"\"\"\n",
    "    stop_words = set(stopwords.words('english'))\n",
    "    w_list  = [f for f in w_list if f not in stop_words]\n",
    "    return w_list\n",
    "\n",
    "# stemming\n",
    "pstem = PorterStemmer()\n",
    "\n",
    "def func_stem(w_list):\n",
    "    \"\"\"\n",
    "    stem word list\n",
    "    in: word list for stemming\n",
    "    out: stemmed word list \n",
    "    \"\"\"\n",
    "    sw_list = [pstem.stem(w) for w in w_list]\n",
    "    return sw_list\n",
    "\n",
    "# selecting nouns\n",
    "def func_noun(w_list):\n",
    "    \"\"\"\n",
    "    in: word list to be processed\n",
    "    out: w_list with only nouns selected\n",
    "    \"\"\"\n",
    "    return [word for (word, pos) in nltk.pos_tag(w_list) if pos[:2] == 'NN']\n",
    "\n",
    "# spell checker/typo correction\n",
    "def func_spell(w_list):\n",
    "    \"\"\"\n",
    "    in: word list to be processed\n",
    "    out: w_list with typo fixed by symspell. words with no match up will be dropped\n",
    "    \"\"\"\n",
    "    w_list_fixed = []\n",
    "    for word in w_list:\n",
    "        suggestions = sym_spell.lookup(word, Verbosity.CLOSEST, max_edit_distance=3)\n",
    "        if suggestions:\n",
    "            w_list_fixed.append(suggestions[0].term)\n",
    "        else:\n",
    "            pass\n",
    "    return w_list_fixed\n",
    "\n",
    "def preprocess_sent(rw):\n",
    "    \"\"\"\n",
    "    Get sentence level preprocessed data from raw texts\n",
    "    in: text to be processed\n",
    "    out: sentence level pre-processed text\n",
    "    \"\"\"\n",
    "    s = func_norm(rw)\n",
    "\n",
    "    return s\n",
    "\n",
    "\n",
    "\n",
    "def preprocess_word(s):\n",
    "    \"\"\"\n",
    "    Get word level preprocessed data from preprocessed sentences\n",
    "    (remove punctuation, select noun, fix typo, stem, stop_words)\n",
    "    in: sentence to be processed\n",
    "    out: word level pre-processed review\n",
    "    \"\"\"\n",
    "    if not s:\n",
    "        return None\n",
    "    w_list = word_tokenize(s)\n",
    "    w_list = func_punc(w_list)\n",
    "    w_list = func_noun(w_list)\n",
    "    w_list = func_spell(w_list)\n",
    "    w_list = func_stem(w_list)\n",
    "    w_list = func_stopf(w_list)\n",
    "\n",
    "    return w_list\n",
    "\n",
    "def preprocess(docs):\n",
    "    \"\"\"\n",
    "    Preprocess the data\n",
    "    \"\"\"\n",
    "    print('Preprocessing raw texts ...')\n",
    "    #n_docs = len(docs)\n",
    "    sentences = []  # sentence level preprocessed\n",
    "    token_lists = []  # word level preprocessed\n",
    "    #samp = np.random.choice(n_docs)\n",
    "    for i in range(0, len(docs)):\n",
    "        sentence = preprocess_sent(docs.iloc[i])\n",
    "        token_list = preprocess_word(sentence)\n",
    "        if token_list:\n",
    "            sentences.append(sentence)\n",
    "            token_lists.append(token_list)\n",
    "        print('{} %'.format(str(np.round((i + 1) / len(writing_df.writing) * 100, 2))), end='\\r')\n",
    "    print('Preprocessing raw texts. Done!')\n",
    "    return sentences, token_lists"
   ]
  },
  {
   "cell_type": "code",
   "execution_count": 135,
   "metadata": {},
   "outputs": [
    {
     "name": "stdout",
     "output_type": "stream",
     "text": [
      "Preprocessing raw texts ...\n",
      "Preprocessing raw texts. Done!\n"
     ]
    }
   ],
   "source": [
    "sentences, token_lists = preprocess(writing_df.writing)"
   ]
  },
  {
   "cell_type": "markdown",
   "metadata": {},
   "source": [
    "We now draw up the same plot as before, but this time we look at the list of words for each group, from all days of writing."
   ]
  },
  {
   "cell_type": "code",
   "execution_count": 206,
   "metadata": {},
   "outputs": [],
   "source": [
    "writing_df = writing_df.reset_index(drop = False)\n",
    "ew_inds = writing_df[writing_df.Group=='EW'].index\n",
    "ewre_inds = writing_df[writing_df.Group == 'EWRE'].index\n",
    "ctr_inds = writing_df[writing_df.Group =='CTR'].index\n",
    "ew_flattened = [item for sublist in token_lists[ew_inds[0]:ew_inds[len(ew_inds)-1]] for item in sublist]\n",
    "ewre_flattened = [item for sublist in token_lists[ewre_inds[0]:ewre_inds[len(ewre_inds)-1]] for item in sublist]\n",
    "ctr_flattened = [item for sublist in token_lists[ctr_inds[0]:ctr_inds[len(ctr_inds)-1]] for item in sublist]"
   ]
  },
  {
   "cell_type": "code",
   "execution_count": 248,
   "metadata": {},
   "outputs": [
    {
     "data": {
      "text/plain": [
       "Text(0.5, 1.0, 'CTR')"
      ]
     },
     "execution_count": 248,
     "metadata": {},
     "output_type": "execute_result"
    },
    {
     "data": {
      "image/png": "[encoded data removed]",
      "text/plain": [
       "<Figure size 2160x1080 with 3 Axes>"
      ]
     },
     "metadata": {
      "needs_background": "light"
     },
     "output_type": "display_data"
    }
   ],
   "source": [
    "fig, axes = plt.subplots(3, 1, figsize=(30,15), sharey=True)\n",
    "fig.suptitle('50 most frequent words - all conditions')\n",
    "\n",
    "# EW\n",
    "sns.barplot(ax=axes[0], x=pd.Series(ew_flattened).value_counts().index[:50], y=pd.Series(ew_flattened).value_counts()[:50])\n",
    "axes[0].set_title('EW')\n",
    "\n",
    "# EWRE\n",
    "sns.barplot(ax=axes[1], x=pd.Series(ewre_flattened).value_counts().index[:50], y=pd.Series(ewre_flattened).value_counts()[:50])\n",
    "axes[1].set_title('EWRE')\n",
    "\n",
    "# CTR\n",
    "sns.barplot(ax=axes[2], x=pd.Series(ctr_flattened).value_counts().index[:50], y=pd.Series(ctr_flattened).value_counts()[:50])\n",
    "axes[2].set_title('CTR')"
   ]
  },
  {
   "cell_type": "markdown",
   "metadata": {},
   "source": [
    "As we can see, the plot has changed quite a bit, and we have a more informative mix of words, rather than just a lot of stop words."
   ]
  },
  {
   "cell_type": "markdown",
   "metadata": {},
   "source": [
    "We'll now check how similar the different writing conditions are in terms of the words used. To do this, we calculate the cosine similarity."
   ]
  },
  {
   "cell_type": "code",
   "execution_count": 251,
   "metadata": {},
   "outputs": [],
   "source": [
    "def counter_cosine_similarity(c1, c2):\n",
    "    terms = set(c1).union(c2)\n",
    "    dotprod = sum(c1.get(k, 0) * c2.get(k, 0) for k in terms)\n",
    "    magA = math.sqrt(sum(c1.get(k, 0)**2 for k in terms))\n",
    "    magB = math.sqrt(sum(c2.get(k, 0)**2 for k in terms))\n",
    "    return dotprod / (magA * magB)\n",
    "\n",
    "# source: https://stackoverflow.com/questions/14720324/compute-the-similarity-between-two-lists"
   ]
  },
  {
   "cell_type": "code",
   "execution_count": 256,
   "metadata": {},
   "outputs": [
    {
     "name": "stdout",
     "output_type": "stream",
     "text": [
      "The similarity between EW and CTR is:  0.5939585069939971\n",
      "The similarity between EWRE and CTR is:  0.5797613032216895\n",
      "The similarity between EW and EWRE is:  0.9597201461034922\n"
     ]
    }
   ],
   "source": [
    "# calculate cosine similarity between control and each active writing group/between the two active groups\n",
    "\n",
    "\n",
    "ew_ctr = counter_cosine_similarity(Counter(ew_flattened), Counter(ctr_flattened))\n",
    "ewre_ctr = counter_cosine_similarity(Counter(ewre_flattened), Counter(ctr_flattened))\n",
    "ew_ewre = counter_cosine_similarity(Counter(ew_flattened), Counter(ewre_flattened))\n",
    "\n",
    "print('The similarity between EW and CTR is: ', ew_ctr)\n",
    "print('The similarity between EWRE and CTR is: ', ewre_ctr)\n",
    "print('The similarity between EW and EWRE is: ', ew_ewre)"
   ]
  },
  {
   "cell_type": "code",
   "execution_count": 257,
   "metadata": {},
   "outputs": [],
   "source": [
    "from sklearn.cluster import KMeans\n",
    "from gensim.corpora.dictionary import Dictionary\n",
    "from gensim import corpora\n",
    "import gensim\n",
    "\n",
    "\n",
    "\n",
    "# define model object\n",
    "class Topic_Model:\n",
    "    def __init__(self, k=10, method='TFIDF'):\n",
    "        \"\"\"\n",
    "        :param k: number of topics\n",
    "        :param method: method chosen for the topic model\n",
    "        \"\"\"\n",
    "        if method not in {'TFIDF', 'LDA', 'BERT'}:\n",
    "            raise Exception('Invalid method!')\n",
    "        self.k = k\n",
    "        self.dictionary = None\n",
    "        self.corpus = None\n",
    "        self.cluster_model = None\n",
    "        self.tfidfmodel = None\n",
    "        self.ldamodel = None\n",
    "        self.vec = {}\n",
    "        self.method = method\n",
    "        self.AE = None\n",
    "        self.id = method + '_' + datetime.datetime.now().strftime(\"%Y_%m_%d_%H_%M_%S\")\n",
    "\n",
    "    def get_vector(self,sentences,token_lists,method = None):\n",
    "        \"\"\"\n",
    "        In: list of tokenized text\n",
    "        returns: dictionary & corpus\n",
    "        \"\"\" \n",
    "        self.dictionary = Dictionary(token_lists)\n",
    "        print('done')\n",
    "        self.corpus = [self.dictionary.doc2bow(text) for text in token_lists]\n",
    "        if not method:\n",
    "            method = 'TFIDF'\n",
    "            print(\"Using default method (TFIDF)\", method)\n",
    "        elif method not in ['TFIDF','LDA']:\n",
    "            raise Exception('Invalid method!')\n",
    "        if method == 'TFIDF':\n",
    "            model = models.TfidfModel(self.corpus)  # fit model\n",
    "            vec = [model[text] for text in self.corpus]\n",
    "            return vec\n",
    "        elif method == 'LDA':\n",
    "            print('Getting vector representations for LDA ...')\n",
    "            if not self.ldamodel:\n",
    "                self.ldamodel = gensim.models.ldamodel.LdaModel(self.corpus, num_topics=self.k, id2word=self.dictionary,\n",
    "                                                                passes=20)\n",
    "\n",
    "            def get_vec_lda(model, corpus, k):\n",
    "                \"\"\"\n",
    "                get the LDA vector representation (probabilistic topic assignments for all documents)\n",
    "                :return: vec_lda with dimension: (n_doc * n_topic)\n",
    "                \"\"\"\n",
    "                n_doc = len(corpus)\n",
    "                vec_lda = np.zeros((n_doc, k))\n",
    "                for i in range(n_doc):\n",
    "                 # get the distribution for the i-th document in corpus\n",
    "                    for topic, prob in model.get_document_topics(corpus[i]):\n",
    "                        vec_lda[i, topic] = prob\n",
    "                return vec_lda\n",
    "\n",
    "            vec = get_vec_lda(self.ldamodel, self.corpus, self.k)\n",
    "            print('Getting vector representations for LDA. Done!')\n",
    "            return vec\n",
    "\n",
    "        elif method == 'BERT':\n",
    "\n",
    "            print('Getting vector representations for BERT ...')\n",
    "            from sentence_transformers import SentenceTransformer\n",
    "            model = SentenceTransformer('bert-base-nli-max-tokens')\n",
    "            vec = np.array(model.encode(sentences, show_progress_bar=True))\n",
    "            print('Getting vector representations for BERT. Done!')\n",
    "            return vec\n",
    "\n",
    "    \n",
    "    def fit(self, sentences, token_lists, method=None, m_clustering=None):\n",
    "        print(method)    \n",
    "        if method is None:\n",
    "            method = self.method\n",
    "        # Default clustering method\n",
    "        if m_clustering is None:\n",
    "            m_clustering = KMeans\n",
    "        \n",
    "        if not self.dictionary:\n",
    "            self.dictionary = Dictionary(token_lists)\n",
    "            self.corpus = [self.dictionary.doc2bow(text) for text in token_lists]\n",
    "\n",
    "        if method == 'LDA':\n",
    "            if not self.ldamodel:\n",
    "                print('Fitting LDA ...')\n",
    "                self.ldamodel = gensim.models.ldamodel.LdaModel(self.corpus, num_topics=self.k, id2word=self.dictionary,\n",
    "                                                                passes=20)\n",
    "                print('Fitting LDA Done!')\n",
    "        if method == 'TFIDF':\n",
    "            self.vec = self.get_vector(sentences,token_lists,method)\n",
    "            print(self.vec)\n",
    "            \n",
    "        else:\n",
    "            print('Clustering embeddings ...')\n",
    "            self.cluster_model = m_clustering(self.k)\n",
    "            self.vec[method] = self.get_vector(sentences, token_lists, method)\n",
    "            self.cluster_model.fit(self.vec[method])\n",
    "            print('Clustering embeddings. Done!')\n",
    "\n",
    "    \n",
    "\n",
    "\n"
   ]
  },
  {
   "cell_type": "code",
   "execution_count": 258,
   "metadata": {},
   "outputs": [],
   "source": [
    "def main():\n",
    "    ntopic = 10\n",
    "    method = 'TFIDF'\n",
    "    #parser = argparse.ArgumentParser(description='contextual_topic_identification tm_test:1.0')\n",
    "\n",
    "    #parser.add_argument('--fpath', default='/kaggle/working/train.csv')\n",
    "    #parser.add_argument('--ntopic', default=10,)\n",
    "    #parser.add_argument('--method', default='TFIDF')\n",
    "    #parser.add_argument('--samp_size', default=20500)\n",
    "    \n",
    "    #args = parser.parse_args()\n",
    "\n",
    "    #data = writing_df.writing \n",
    "\n",
    "    #sentences, token_lists, idx_in = preprocess(data)\n",
    "\n",
    "    tm = Topic_Model(k = ntopic, method = method)\n",
    "    tm.fit(sentences,token_lists)\n",
    "\n",
    "        "
   ]
  },
  {
   "cell_type": "code",
   "execution_count": null,
   "metadata": {},
   "outputs": [],
   "source": [
    "main()"
   ]
  }
 ],
 "metadata": {
  "interpreter": {
   "hash": "48186e61764c8c514947f0ef500accf59797b98e64cdc910e21ec2975c1f1025"
  },
  "kernelspec": {
   "display_name": "Python 3.9.4 64-bit",
   "language": "python",
   "name": "python3"
  },
  "language_info": {
   "codemirror_mode": {
    "name": "ipython",
    "version": 3
   },
   "file_extension": ".py",
   "mimetype": "text/x-python",
   "name": "python",
   "nbconvert_exporter": "python",
   "pygments_lexer": "ipython3",
   "version": "3.9.7"
  },
  "orig_nbformat": 4
 },
 "nbformat": 4,
 "nbformat_minor": 2
}
